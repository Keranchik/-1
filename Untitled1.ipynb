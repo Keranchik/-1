{
  "nbformat": 4,
  "nbformat_minor": 0,
  "metadata": {
    "colab": {
      "provenance": []
    },
    "kernelspec": {
      "name": "python3",
      "display_name": "Python 3"
    },
    "language_info": {
      "name": "python"
    }
  },
  "cells": [
    {
      "cell_type": "code",
      "execution_count": null,
      "metadata": {
        "id": "OdeRvfu-yfCp"
      },
      "outputs": [],
      "source": []
    },
    {
      "cell_type": "code",
      "source": [
        "from scipy import stats\n",
        "dist = stats.norm(loc=0, scale=1)\n",
        "pdf_value = dist.pdf(0)\n",
        "cdf_value = dist.cdf(1)\n",
        "random_values = dist.rvs(size=10)\n"
      ],
      "metadata": {
        "id": "RoRczpTbzS2X"
      },
      "execution_count": 4,
      "outputs": []
    },
    {
      "cell_type": "code",
      "source": [
        "from scipy import stats\n",
        "sample = [1, 2, 3, 4, 5]\n",
        "t_statistic, p_value = stats.ttest_1samp(sample, popmean=3)\n",
        "sample1 = [1, 2, 3, 4, 5,]\n",
        "sample2 = [6, 7, 8, 9, 10]\n",
        "t_statistic, p_value = stats.ttest_ind(sample1, sample2)"
      ],
      "metadata": {
        "id": "pdpCR7cU2Q0W"
      },
      "execution_count": 5,
      "outputs": []
    }
  ]
}